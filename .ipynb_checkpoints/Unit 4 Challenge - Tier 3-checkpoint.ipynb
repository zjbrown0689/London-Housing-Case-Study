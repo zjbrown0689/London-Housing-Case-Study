{
 "cells": [
  {
   "cell_type": "markdown",
   "metadata": {
    "colab_type": "text",
    "id": "Tia3MP1SJpgj"
   },
   "source": [
    "# Springboard Data Science Career Track Unit 4 Challenge - Tier 3 Complete\n",
    "\n",
    "## Objectives\n",
    "Hey! Great job getting through those challenging DataCamp courses. You're learning a lot in a short span of time. \n",
    "\n",
    "In this notebook, you're going to apply the skills you've been learning, bridging the gap between the controlled environment of DataCamp and the *slightly* messier work that data scientists do with actual datasets!\n",
    "\n",
    "Here’s the mystery we’re going to solve: ***which boroughs of London have seen the greatest increase in housing prices, on average, over the last two decades?***\n",
    "\n",
    "\n",
    "A borough is just a fancy word for district. You may be familiar with the five boroughs of New York… well, there are 32 boroughs within Greater London [(here's some info for the curious)](https://en.wikipedia.org/wiki/London_boroughs). Some of them are more desirable areas to live in, and the data will reflect that with a greater rise in housing prices.\n",
    "\n",
    "***This is the Tier 3 notebook, which means it's not filled in at all: we'll just give you the skeleton of a project, the brief and the data. It's up to you to play around with it and see what you can find out! Good luck! If you struggle, feel free to look at easier tiers for help; but try to dip in and out of them, as the more independent work you do, the better it is for your learning!***\n",
    "\n",
    "This challenge will make use of only what you learned in the following DataCamp courses: \n",
    "- Prework courses (Introduction to Python for Data Science, Intermediate Python for Data Science)\n",
    "- Data Types for Data Science\n",
    "- Python Data Science Toolbox (Part One) \n",
    "- pandas Foundations\n",
    "- Manipulating DataFrames with pandas\n",
    "- Merging DataFrames with pandas\n",
    "\n",
    "Of the tools, techniques and concepts in the above DataCamp courses, this challenge should require the application of the following: \n",
    "- **pandas**\n",
    "    - **data ingestion and inspection** (pandas Foundations, Module One) \n",
    "    - **exploratory data analysis** (pandas Foundations, Module Two)\n",
    "    - **tidying and cleaning** (Manipulating DataFrames with pandas, Module Three) \n",
    "    - **transforming DataFrames** (Manipulating DataFrames with pandas, Module One)\n",
    "    - **subsetting DataFrames with lists** (Manipulating DataFrames with pandas, Module One) \n",
    "    - **filtering DataFrames** (Manipulating DataFrames with pandas, Module One) \n",
    "    - **grouping data** (Manipulating DataFrames with pandas, Module Four) \n",
    "    - **melting data** (Manipulating DataFrames with pandas, Module Three) \n",
    "    - **advanced indexing** (Manipulating DataFrames with pandas, Module Four) \n",
    "- **matplotlib** (Intermediate Python for Data Science, Module One)\n",
    "- **fundamental data types** (Data Types for Data Science, Module One) \n",
    "- **dictionaries** (Intermediate Python for Data Science, Module Two)\n",
    "- **handling dates and times** (Data Types for Data Science, Module Four)\n",
    "- **function definition** (Python Data Science Toolbox - Part One, Module One)\n",
    "- **default arguments, variable length, and scope** (Python Data Science Toolbox - Part One, Module Two) \n",
    "- **lambda functions and error handling** (Python Data Science Toolbox - Part One, Module Four) "
   ]
  },
  {
   "cell_type": "markdown",
   "metadata": {
    "colab_type": "text",
    "id": "Ipgd2nV8Jpgl"
   },
   "source": [
    "## The Data Science Pipeline\n",
    "\n",
    "This is Tier Three, so we'll get you started. But after that, it's all in your hands! When you feel done with your investigations, look back over what you've accomplished, and prepare a quick presentation of your findings for the next mentor meeting. \n",
    "\n",
    "Data Science is magical. In this case study, you'll get to apply some complex machine learning algorithms. But as  [David Spiegelhalter](https://www.youtube.com/watch?v=oUs1uvsz0Ok) reminds us, there is no substitute for simply **taking a really, really good look at the data.** Sometimes, this is all we need to answer our question.\n",
    "\n",
    "Data Science projects generally adhere to the four stages of Data Science Pipeline:\n",
    "1. Sourcing and loading \n",
    "2. Cleaning, transforming, and visualizing \n",
    "3. Modeling \n",
    "4. Evaluating and concluding \n"
   ]
  },
  {
   "cell_type": "markdown",
   "metadata": {
    "colab_type": "text",
    "id": "zswDqbefJpgm"
   },
   "source": [
    "### 1. Sourcing and Loading \n",
    "\n",
    "Any Data Science project kicks off by importing  ***pandas***. The documentation of this wonderful library can be found [here](https://pandas.pydata.org/). As you've seen, pandas is conveniently connected to the [Numpy](http://www.numpy.org/) and [Matplotlib](https://matplotlib.org/) libraries. \n",
    "\n",
    "***Hint:*** This part of the data science pipeline will test those skills you acquired in the pandas Foundations course, Module One. "
   ]
  },
  {
   "cell_type": "markdown",
   "metadata": {
    "colab_type": "text",
    "id": "aEau5nEvJpgm"
   },
   "source": [
    "#### 1.1. Importing Libraries"
   ]
  },
  {
   "cell_type": "code",
   "execution_count": 54,
   "metadata": {
    "colab": {},
    "colab_type": "code",
    "id": "7Bt_Q_oPJpgn"
   },
   "outputs": [],
   "source": [
    "# Let's import the pandas, numpy libraries as pd, and np respectively. \n",
    "import pandas as pd\n",
    "import numpy as np\n",
    "\n",
    "# Load the pyplot collection of functions from matplotlib, as plt \n",
    "import matplotlib.pyplot as plt"
   ]
  },
  {
   "cell_type": "markdown",
   "metadata": {
    "colab_type": "text",
    "id": "koUrawxsJpgq"
   },
   "source": [
    "#### 1.2.  Loading the data\n",
    "Your data comes from the [London Datastore](https://data.london.gov.uk/): a free, open-source data-sharing portal for London-oriented datasets. "
   ]
  },
  {
   "cell_type": "code",
   "execution_count": 55,
   "metadata": {
    "colab": {},
    "colab_type": "code",
    "id": "AiLiD4v3Jpgr"
   },
   "outputs": [],
   "source": [
    "# First, make a variable called url_LondonHousePrices, and assign it the following link, enclosed in quotation-marks as a string:\n",
    "# https://data.london.gov.uk/download/uk-house-price-index/70ac0766-8902-4eb5-aab5-01951aaed773/UK%20House%20price%20index.xls\n",
    "\n",
    "url_LondonHousePrices = \"https://data.london.gov.uk/download/uk-house-price-index/70ac0766-8902-4eb5-aab5-01951aaed773/UK%20House%20price%20index.xls\"\n",
    "\n",
    "# The dataset we're interested in contains the Average prices of the houses, and is actually on a particular sheet of the Excel file. \n",
    "# As a result, we need to specify the sheet name in the read_excel() method.\n",
    "# Put this data into a variable called properties.  \n",
    "properties = pd.read_excel(url_LondonHousePrices, sheet_name='Average price', index_col= None)"
   ]
  },
  {
   "cell_type": "markdown",
   "metadata": {
    "colab_type": "text",
    "id": "POukEJXgJpgu"
   },
   "source": [
    "### 2. Cleaning, transforming, and visualizing\n",
    "This second stage is arguably the most important part of any Data Science project. The first thing to do is take a proper look at the data. Cleaning forms the majority of this stage, and can be done both before or after Transformation.\n",
    "\n",
    "The end goal of data cleaning is to have tidy data. When data is tidy: \n",
    "\n",
    "1. Each variable has a column.\n",
    "2. Each observation forms a row.\n",
    "\n",
    "Keep the end goal in mind as you move through this process, every step will take you closer. \n",
    "\n",
    "\n",
    "\n",
    "***Hint:*** This part of the data science pipeline should test those skills you acquired in: \n",
    "- Intermediate Python for data science, all modules.\n",
    "- pandas Foundations, all modules. \n",
    "- Manipulating DataFrames with pandas, all modules.\n",
    "- Data Types for Data Science, Module Four.\n",
    "- Python Data Science Toolbox - Part One, all modules"
   ]
  },
  {
   "cell_type": "markdown",
   "metadata": {
    "colab_type": "text",
    "id": "Te0Q548tnzZa"
   },
   "source": [
    "**2.1. Exploring your data** \n",
    "\n",
    "Think about your pandas functions for checking out a dataframe. "
   ]
  },
  {
   "cell_type": "code",
   "execution_count": 56,
   "metadata": {
    "colab": {},
    "colab_type": "code",
    "id": "Rxirxw_qoAJa"
   },
   "outputs": [
    {
     "name": "stdout",
     "output_type": "stream",
     "text": [
      "  Unnamed: 0 City of London Barking & Dagenham       Barnet       Bexley  \\\n",
      "0        NaT      E09000001          E09000002    E09000003    E09000004   \n",
      "1 1995-01-01    91448.98487         50460.2266  93284.51832  64958.09036   \n",
      "2 1995-02-01    82202.77314        51085.77983  93190.16963  64787.92069   \n",
      "3 1995-03-01    79120.70256        51268.96956  92247.52435  64367.49344   \n",
      "4 1995-04-01    77101.20804        53133.50526  90762.87492  64277.66881   \n",
      "\n",
      "         Brent      Bromley       Camden      Croydon       Ealing  ...  \\\n",
      "0    E09000005    E09000006    E09000007    E09000008    E09000009  ...   \n",
      "1  71306.56698  81671.47692  120932.8881  69158.16225  79885.89069  ...   \n",
      "2  72022.26197  81657.55944  119508.8622  68951.09542  80897.06551  ...   \n",
      "3  72015.76274  81449.31143  120282.2131  68712.44341  81379.86288  ...   \n",
      "4  72965.63094  81124.41227   120097.899  68610.04641  82188.90498  ...   \n",
      "\n",
      "    NORTH WEST YORKS & THE HUMBER EAST MIDLANDS WEST MIDLANDS EAST OF ENGLAND  \\\n",
      "0    E12000002          E12000003     E12000004     E12000005       E12000006   \n",
      "1  43958.48001        44803.42878   45544.52227   48527.52339      56701.5961   \n",
      "2  43925.42289        44528.80721   46051.57066   49341.29029     56593.59475   \n",
      "3   44434.8681        45200.46775   45383.82395   49442.17973     56171.18278   \n",
      "4   44267.7796        45614.34341   46124.23045   49455.93299     56567.89582   \n",
      "\n",
      "        LONDON   SOUTH EAST   SOUTH WEST Unnamed: 47      England  \n",
      "0    E12000007    E12000008    E12000009         NaN    E92000001  \n",
      "1  74435.76052  64018.87894   54705.1579         NaN  53202.77128  \n",
      "2  72777.93709  63715.02399  54356.14843         NaN   53096.1549  \n",
      "3  73896.84204  64113.60858  53583.07667         NaN   53201.2843  \n",
      "4  74455.28754  64623.22395  54786.01938         NaN   53590.8548  \n",
      "\n",
      "[5 rows x 49 columns]\n",
      "(331, 49)\n",
      "Unnamed: 0              datetime64[ns]\n",
      "City of London                  object\n",
      "Barking & Dagenham              object\n",
      "Barnet                          object\n",
      "Bexley                          object\n",
      "Brent                           object\n",
      "Bromley                         object\n",
      "Camden                          object\n",
      "Croydon                         object\n",
      "Ealing                          object\n",
      "Enfield                         object\n",
      "Greenwich                       object\n",
      "Hackney                         object\n",
      "Hammersmith & Fulham            object\n",
      "Haringey                        object\n",
      "Harrow                          object\n",
      "Havering                        object\n",
      "Hillingdon                      object\n",
      "Hounslow                        object\n",
      "Islington                       object\n",
      "Kensington & Chelsea            object\n",
      "Kingston upon Thames            object\n",
      "Lambeth                         object\n",
      "Lewisham                        object\n",
      "Merton                          object\n",
      "Newham                          object\n",
      "Redbridge                       object\n",
      "Richmond upon Thames            object\n",
      "Southwark                       object\n",
      "Sutton                          object\n",
      "Tower Hamlets                   object\n",
      "Waltham Forest                  object\n",
      "Wandsworth                      object\n",
      "Westminster                     object\n",
      "Unnamed: 34                    float64\n",
      "Inner London                    object\n",
      "Outer London                    object\n",
      "Unnamed: 37                    float64\n",
      "NORTH EAST                      object\n",
      "NORTH WEST                      object\n",
      "YORKS & THE HUMBER              object\n",
      "EAST MIDLANDS                   object\n",
      "WEST MIDLANDS                   object\n",
      "EAST OF ENGLAND                 object\n",
      "LONDON                          object\n",
      "SOUTH EAST                      object\n",
      "SOUTH WEST                      object\n",
      "Unnamed: 47                    float64\n",
      "England                         object\n",
      "dtype: object\n"
     ]
    }
   ],
   "source": [
    "print(properties.head())\n",
    "print(properties.shape)\n",
    "print(properties.dtypes)"
   ]
  },
  {
   "cell_type": "markdown",
   "metadata": {
    "colab_type": "text",
    "id": "tE9Sqt9-oAta"
   },
   "source": [
    "**2.2. Cleaning the data**\n",
    "\n",
    "You might find you need to transpose your dataframe, check out what its row indexes are, and reset the index. You  also might find you need to assign the values of the first row to your column headings  . (Hint: recall the .columns feature of DataFrames, as well as the iloc[] method).\n",
    "\n",
    "Don't be afraid to use StackOverflow for help  with this."
   ]
  },
  {
   "cell_type": "code",
   "execution_count": 57,
   "metadata": {
    "colab": {},
    "colab_type": "code",
    "id": "cdAu1A3YoH_r"
   },
   "outputs": [
    {
     "name": "stdout",
     "output_type": "stream",
     "text": [
      "           Unnamed: 0        NaN  1995-01-01 00:00:00  1995-02-01 00:00:00  \\\n",
      "0          Unnamed: 0        NaT  1995-01-01 00:00:00  1995-02-01 00:00:00   \n",
      "1      City of London  E09000001          91448.98487          82202.77314   \n",
      "2  Barking & Dagenham  E09000002           50460.2266          51085.77983   \n",
      "3              Barnet  E09000003          93284.51832          93190.16963   \n",
      "4              Bexley  E09000004          64958.09036          64787.92069   \n",
      "\n",
      "   1995-03-01 00:00:00  1995-04-01 00:00:00  1995-05-01 00:00:00  \\\n",
      "0  1995-03-01 00:00:00  1995-04-01 00:00:00  1995-05-01 00:00:00   \n",
      "1          79120.70256          77101.20804          84409.14932   \n",
      "2          51268.96956          53133.50526          53042.24852   \n",
      "3          92247.52435          90762.87492          90258.00033   \n",
      "4          64367.49344          64277.66881          63997.13588   \n",
      "\n",
      "   1995-06-01 00:00:00  1995-07-01 00:00:00  1995-08-01 00:00:00  ...  \\\n",
      "0  1995-06-01 00:00:00  1995-07-01 00:00:00  1995-08-01 00:00:00  ...   \n",
      "1          94900.51244          110128.0423          112329.4376  ...   \n",
      "2          53700.34831          52113.12157          52232.19868  ...   \n",
      "3          90107.23471          91441.24768          92361.31512  ...   \n",
      "4          64252.32335          63722.70055          64432.60005  ...   \n",
      "\n",
      "   2021-09-01 00:00:00  2021-10-01 00:00:00  2021-11-01 00:00:00  \\\n",
      "0  2021-09-01 00:00:00  2021-10-01 00:00:00  2021-11-01 00:00:00   \n",
      "1          954883.5623           793389.303          799674.7093   \n",
      "2          315039.4514          326713.3328           328530.925   \n",
      "3          554751.7729          568918.4141          572810.1795   \n",
      "4          371845.6682          374878.1357          377659.1213   \n",
      "\n",
      "   2021-12-01 00:00:00  2022-01-01 00:00:00  2022-02-01 00:00:00  \\\n",
      "0  2021-12-01 00:00:00  2022-01-01 00:00:00  2022-02-01 00:00:00   \n",
      "1          809376.0744          796047.1779          856301.3695   \n",
      "2          330850.6123          337556.8251          341428.3513   \n",
      "3          574877.2915          581452.9611          578243.1188   \n",
      "4          378364.5877          380927.4203           384241.381   \n",
      "\n",
      "   2022-03-01 00:00:00  2022-04-01 00:00:00  2022-05-01 00:00:00  \\\n",
      "0  2022-03-01 00:00:00  2022-04-01 00:00:00  2022-05-01 00:00:00   \n",
      "1          820301.6021           860938.146          802499.9324   \n",
      "2          342723.2034          339305.0077          337715.1923   \n",
      "3          582655.2462          594130.6286          600963.0729   \n",
      "4          389416.9541          391216.7404          393388.7677   \n",
      "\n",
      "   2022-06-01 00:00:00  \n",
      "0  2022-06-01 00:00:00  \n",
      "1           830376.165  \n",
      "2          342083.4519  \n",
      "3          599286.6158  \n",
      "4          395012.0758  \n",
      "\n",
      "[5 rows x 332 columns]\n"
     ]
    }
   ],
   "source": [
    "trans = properties.transpose()\n",
    "trans_ind = trans.reset_index()\n",
    "trans_lab = trans_ind.rename(columns=trans_ind.iloc[0])\n",
    "print(trans_lab.head())"
   ]
  },
  {
   "cell_type": "markdown",
   "metadata": {
    "colab_type": "text",
    "id": "o1uLbJAsoIjK"
   },
   "source": [
    "**2.3. Cleaning the data (part 2)**\n",
    "\n",
    "You might we have to **rename** a couple columns. How do you do this? The clue's pretty bold..."
   ]
  },
  {
   "cell_type": "code",
   "execution_count": 58,
   "metadata": {
    "colab": {},
    "colab_type": "code",
    "id": "GKkmn1AnoVZS"
   },
   "outputs": [],
   "source": [
    "named = trans_lab.rename(columns={'Unnamed: 0':'Borough', pd.NaT:'ID'})"
   ]
  },
  {
   "cell_type": "code",
   "execution_count": 59,
   "metadata": {},
   "outputs": [],
   "source": [
    "named = named.drop(0)"
   ]
  },
  {
   "cell_type": "code",
   "execution_count": 60,
   "metadata": {},
   "outputs": [
    {
     "data": {
      "text/plain": [
       "Index([          'Borough',                'ID', 1995-01-01 00:00:00,\n",
       "       1995-02-01 00:00:00, 1995-03-01 00:00:00, 1995-04-01 00:00:00,\n",
       "       1995-05-01 00:00:00, 1995-06-01 00:00:00, 1995-07-01 00:00:00,\n",
       "       1995-08-01 00:00:00,\n",
       "       ...\n",
       "       2021-09-01 00:00:00, 2021-10-01 00:00:00, 2021-11-01 00:00:00,\n",
       "       2021-12-01 00:00:00, 2022-01-01 00:00:00, 2022-02-01 00:00:00,\n",
       "       2022-03-01 00:00:00, 2022-04-01 00:00:00, 2022-05-01 00:00:00,\n",
       "       2022-06-01 00:00:00],\n",
       "      dtype='object', length=332)"
      ]
     },
     "execution_count": 60,
     "metadata": {},
     "output_type": "execute_result"
    }
   ],
   "source": [
    "named.columns"
   ]
  },
  {
   "cell_type": "markdown",
   "metadata": {
    "colab_type": "text",
    "id": "jy8BzXHmoWEw"
   },
   "source": [
    "**2.4.Transforming the data**\n",
    "\n",
    "Remember what Wes McKinney said about tidy data? \n",
    "\n",
    "You might need to **melt** your DataFrame here. "
   ]
  },
  {
   "cell_type": "code",
   "execution_count": 61,
   "metadata": {
    "colab": {},
    "colab_type": "code",
    "id": "S2wM0qLuo2Zt"
   },
   "outputs": [],
   "source": [
    "melted = named.melt(id_vars=['Borough', 'ID'], var_name='Date', value_name='Average Price')"
   ]
  },
  {
   "cell_type": "markdown",
   "metadata": {
    "colab_type": "text",
    "id": "7kIsgAo7o3mf"
   },
   "source": [
    "Remember to make sure your column data types are all correct. Average prices, for example, should be floating point numbers... "
   ]
  },
  {
   "cell_type": "code",
   "execution_count": 62,
   "metadata": {
    "colab": {},
    "colab_type": "code",
    "id": "ZcR4IHbcpOaq"
   },
   "outputs": [
    {
     "data": {
      "text/plain": [
       "Borough                  object\n",
       "ID                       object\n",
       "Date             datetime64[ns]\n",
       "Average Price           float64\n",
       "dtype: object"
      ]
     },
     "execution_count": 62,
     "metadata": {},
     "output_type": "execute_result"
    }
   ],
   "source": [
    "melted['Average Price'] = pd.to_numeric(melted['Average Price'])\n",
    "melted.dtypes"
   ]
  },
  {
   "cell_type": "markdown",
   "metadata": {
    "colab_type": "text",
    "id": "knLUXHLypOtw"
   },
   "source": [
    "**2.5. Cleaning the data (part 3)**\n",
    "\n",
    "Do we have an equal number of observations in the ID, Average Price, Month, and London Borough columns? Remember that there are only 32 London Boroughs. How many entries do you have in that column? \n",
    "\n",
    "Check out the contents of the London Borough column, and if you find null values, get rid of them however you see fit. "
   ]
  },
  {
   "cell_type": "code",
   "execution_count": 63,
   "metadata": {},
   "outputs": [
    {
     "name": "stdout",
     "output_type": "stream",
     "text": [
      "              Borough         ID       Date  Average Price\n",
      "0      City of London  E09000001 1995-01-01    91448.98487\n",
      "1  Barking & Dagenham  E09000002 1995-01-01    50460.22660\n",
      "2              Barnet  E09000003 1995-01-01    93284.51832\n",
      "3              Bexley  E09000004 1995-01-01    64958.09036\n",
      "4               Brent  E09000005 1995-01-01    71306.56698\n"
     ]
    }
   ],
   "source": [
    "print(melted.head())"
   ]
  },
  {
   "cell_type": "code",
   "execution_count": 64,
   "metadata": {
    "colab": {},
    "colab_type": "code",
    "id": "BnvTW5a3p0fC"
   },
   "outputs": [
    {
     "name": "stdout",
     "output_type": "stream",
     "text": [
      "                       ID  Date  Average Price\n",
      "Borough                                       \n",
      "Barking & Dagenham    330   330            330\n",
      "Barnet                330   330            330\n",
      "Bexley                330   330            330\n",
      "Brent                 330   330            330\n",
      "Bromley               330   330            330\n",
      "Camden                330   330            330\n",
      "City of London        330   330            330\n",
      "Croydon               330   330            330\n",
      "EAST MIDLANDS         330   330            330\n",
      "EAST OF ENGLAND       330   330            330\n",
      "Ealing                330   330            330\n",
      "Enfield               330   330            330\n",
      "England               330   330            330\n",
      "Greenwich             330   330            330\n",
      "Hackney               330   330            330\n",
      "Hammersmith & Fulham  330   330            330\n",
      "Haringey              330   330            330\n",
      "Harrow                330   330            330\n",
      "Havering              330   330            330\n",
      "Hillingdon            330   330            330\n",
      "Hounslow              330   330            330\n",
      "Inner London          330   330            330\n",
      "Islington             330   330            330\n",
      "Kensington & Chelsea  330   330            330\n",
      "Kingston upon Thames  330   330            330\n",
      "LONDON                330   330            330\n",
      "Lambeth               330   330            330\n",
      "Lewisham              330   330            330\n",
      "Merton                330   330            330\n",
      "NORTH EAST            330   330            330\n",
      "NORTH WEST            330   330            330\n",
      "Newham                330   330            330\n",
      "Outer London          330   330            330\n",
      "Redbridge             330   330            330\n",
      "Richmond upon Thames  330   330            330\n",
      "SOUTH EAST            330   330            330\n",
      "SOUTH WEST            330   330            330\n",
      "Southwark             330   330            330\n",
      "Sutton                330   330            330\n",
      "Tower Hamlets         330   330            330\n",
      "Unnamed: 34             0   330              0\n",
      "Unnamed: 37             0   330              0\n",
      "Unnamed: 47             0   330              0\n",
      "WEST MIDLANDS         330   330            330\n",
      "Waltham Forest        330   330            330\n",
      "Wandsworth            330   330            330\n",
      "Westminster           330   330            330\n",
      "YORKS & THE HUMBER    330   330            330\n"
     ]
    }
   ],
   "source": [
    "print(melted.groupby('Borough').count())"
   ]
  },
  {
   "cell_type": "code",
   "execution_count": 65,
   "metadata": {},
   "outputs": [
    {
     "name": "stdout",
     "output_type": "stream",
     "text": [
      "                  Borough         ID       Date Average Price\n",
      "1      Barking & Dagenham  E09000002 1995-01-01    50460.2266\n",
      "49     Barking & Dagenham  E09000002 1995-02-01   51085.77983\n",
      "97     Barking & Dagenham  E09000002 1995-03-01   51268.96956\n",
      "145    Barking & Dagenham  E09000002 1995-04-01   53133.50526\n",
      "193    Barking & Dagenham  E09000002 1995-05-01   53042.24852\n",
      "...                   ...        ...        ...           ...\n",
      "15639  YORKS & THE HUMBER  E12000003 2022-02-01   197549.4265\n",
      "15687  YORKS & THE HUMBER  E12000003 2022-03-01    197877.407\n",
      "15735  YORKS & THE HUMBER  E12000003 2022-04-01   200353.5913\n",
      "15783  YORKS & THE HUMBER  E12000003 2022-05-01    204834.886\n",
      "15831  YORKS & THE HUMBER  E12000003 2022-06-01   203973.2929\n",
      "\n",
      "[15840 rows x 4 columns]\n"
     ]
    }
   ],
   "source": [
    "sorted = melted.sort_values(['Borough', 'Date']).fillna(axis = 1, method='ffill')\n",
    "print(sorted)"
   ]
  },
  {
   "cell_type": "code",
   "execution_count": 66,
   "metadata": {},
   "outputs": [],
   "source": [
    "reduced = sorted.loc[~sorted['Borough'].isin(['EAST MIDLANDS', 'EAST OF ENGLAND', 'NORTH EAST', 'NORTH WEST', 'SOUTH EAST', 'SOUTH WEST', 'Unnamed: 34', 'Unnamed: 37', 'Unnamed: 47', 'England', 'Inner London', 'LONDON', 'Outer London', 'WEST MIDLANDS', 'YORKS & THE HUMBER'])]"
   ]
  },
  {
   "cell_type": "code",
   "execution_count": 67,
   "metadata": {},
   "outputs": [
    {
     "name": "stdout",
     "output_type": "stream",
     "text": [
      "                Borough         ID       Date Average Price\n",
      "1    Barking & Dagenham  E09000002 1995-01-01    50460.2266\n",
      "49   Barking & Dagenham  E09000002 1995-02-01   51085.77983\n",
      "97   Barking & Dagenham  E09000002 1995-03-01   51268.96956\n",
      "145  Barking & Dagenham  E09000002 1995-04-01   53133.50526\n",
      "193  Barking & Dagenham  E09000002 1995-05-01   53042.24852\n",
      "(10890, 4)\n"
     ]
    }
   ],
   "source": [
    "print(reduced.head())\n",
    "print(reduced.shape)"
   ]
  },
  {
   "cell_type": "markdown",
   "metadata": {
    "colab_type": "text",
    "id": "PGEx6mJsp6dG"
   },
   "source": [
    "**2.6. Visualizing the data**\n",
    "\n",
    "To visualize the data, why not subset on a particular London Borough? Maybe do a line plot of Month against Average Price?"
   ]
  },
  {
   "cell_type": "code",
   "execution_count": 68,
   "metadata": {
    "colab": {},
    "colab_type": "code",
    "id": "nAg5pT9cqHAR"
   },
   "outputs": [
    {
     "data": {
      "image/png": "[encoded data removed]",
      "text/plain": [
       "<Figure size 432x288 with 1 Axes>"
      ]
     },
     "metadata": {
      "needs_background": "light"
     },
     "output_type": "display_data"
    }
   ],
   "source": [
    "cam = reduced.loc[reduced['Borough'] == 'Camden']\n",
    "cam.plot(x='Date', y='Average Price')\n",
    "plt.show()"
   ]
  },
  {
   "cell_type": "markdown",
   "metadata": {
    "colab_type": "text",
    "id": "aWTPqSJeqHnC"
   },
   "source": [
    "To limit the number of data points you have, you might want to extract the year from every month value your *Month* column. \n",
    "\n",
    "To this end, you *could* apply a ***lambda function***. Your logic could work as follows:\n",
    "1. look through the `Month` column\n",
    "2. extract the year from each individual value in that column \n",
    "3. store that corresponding year as separate column. \n",
    "\n",
    "Whether you go ahead with this is up to you. Just so long as you answer our initial brief: which boroughs of London have seen the greatest house price increase, on average, over the past two decades? "
   ]
  },
  {
   "cell_type": "code",
   "execution_count": 74,
   "metadata": {
    "colab": {},
    "colab_type": "code",
    "id": "e0DF92cyqnu8"
   },
   "outputs": [
    {
     "name": "stdout",
     "output_type": "stream",
     "text": [
      "                Borough         ID       Date Average Price  Year  Month\n",
      "1    Barking & Dagenham  E09000002 1995-01-01    50460.2266  1995      1\n",
      "49   Barking & Dagenham  E09000002 1995-02-01   51085.77983  1995      2\n",
      "97   Barking & Dagenham  E09000002 1995-03-01   51268.96956  1995      3\n",
      "145  Barking & Dagenham  E09000002 1995-04-01   53133.50526  1995      4\n",
      "193  Barking & Dagenham  E09000002 1995-05-01   53042.24852  1995      5\n"
     ]
    },
    {
     "name": "stderr",
     "output_type": "stream",
     "text": [
      "C:\\Users\\Zjbro\\AppData\\Local\\Temp/ipykernel_9804/2724687736.py:1: SettingWithCopyWarning: \n",
      "A value is trying to be set on a copy of a slice from a DataFrame.\n",
      "Try using .loc[row_indexer,col_indexer] = value instead\n",
      "\n",
      "See the caveats in the documentation: https://pandas.pydata.org/pandas-docs/stable/user_guide/indexing.html#returning-a-view-versus-a-copy\n",
      "  reduced['Year'] = pd.DatetimeIndex(reduced['Date']).year\n",
      "C:\\Users\\Zjbro\\AppData\\Local\\Temp/ipykernel_9804/2724687736.py:2: SettingWithCopyWarning: \n",
      "A value is trying to be set on a copy of a slice from a DataFrame.\n",
      "Try using .loc[row_indexer,col_indexer] = value instead\n",
      "\n",
      "See the caveats in the documentation: https://pandas.pydata.org/pandas-docs/stable/user_guide/indexing.html#returning-a-view-versus-a-copy\n",
      "  reduced['Month'] = pd.DatetimeIndex(reduced['Date']).month\n"
     ]
    }
   ],
   "source": [
    "reduced['Year'] = pd.DatetimeIndex(reduced['Date']).year\n",
    "reduced['Month'] = pd.DatetimeIndex(reduced['Date']).month\n",
    "print(reduced.head())"
   ]
  },
  {
   "cell_type": "markdown",
   "metadata": {
    "colab_type": "text",
    "id": "2knuTxAEqoJ4"
   },
   "source": [
    "**3. Modeling**\n",
    "\n",
    "Consider creating a function that will calculate a ratio of house prices, comparing the price of a house in 2018 to the price in 1998.\n",
    "\n",
    "Consider calling this function create_price_ratio.\n",
    "\n",
    "You'd want this function to:\n",
    "1. Take a filter of dfg, specifically where this filter constrains the London_Borough, as an argument. For example, one admissible argument should be: dfg[dfg['London_Borough']=='Camden'].\n",
    "2. Get the Average Price for that Borough, for the years 1998 and 2018.\n",
    "4. Calculate the ratio of the Average Price for 1998 divided by the Average Price for 2018.\n",
    "5. Return that ratio.\n",
    "\n",
    "Once you've written this function, you ultimately want to use it to iterate through all the unique London_Boroughs and work out the ratio capturing the difference of house prices between 1998 and 2018.\n",
    "\n",
    "Bear in mind: you don't have to write a function like this if you don't want to. If you can solve the brief otherwise, then great! \n",
    "\n",
    "***Hint***: This section should test the skills you acquired in:\n",
    "- Python Data Science Toolbox - Part One, all modules"
   ]
  },
  {
   "cell_type": "code",
   "execution_count": 98,
   "metadata": {},
   "outputs": [],
   "source": [
    "def create_price_ratio(df):\n",
    "    ratios = dict()\n",
    "    for borough in df['Borough']:\n",
    "        target = df.loc[df['Borough'] == borough]\n",
    "        ninetyeight = target.loc[target['Year'] == 1998]\n",
    "        twenty_eightteen = target.loc[target['Year'] == 2018]\n",
    "        ratio = twenty_eightteen['Average Price'].mean() / ninetyeight['Average Price'].mean()\n",
    "        ratios[borough] = ratio\n",
    "    return(ratios)"
   ]
  },
  {
   "cell_type": "code",
   "execution_count": 101,
   "metadata": {
    "colab": {},
    "colab_type": "code",
    "id": "cKTyr437UgDa"
   },
   "outputs": [
    {
     "name": "stdout",
     "output_type": "stream",
     "text": [
      "{'Barking & Dagenham': 4.89661861291754, 'Barnet': 4.358195917538044, 'Bexley': 4.248977046127877, 'Brent': 4.8945544971392865, 'Bromley': 4.0947846853338765, 'Camden': 4.935353408884261, 'City of London': 5.301620377587609, 'Croydon': 4.201100280024767, 'Ealing': 4.311450902121834, 'Enfield': 4.26347158349581, 'Greenwich': 4.763036347329193, 'Hackney': 6.198285561008662, 'Hammersmith & Fulham': 4.137798101936229, 'Haringey': 5.134624964136042, 'Harrow': 4.0591964329643195, 'Havering': 4.325230371335308, 'Hillingdon': 4.2002730803844575, 'Hounslow': 3.976409106143329, 'Islington': 4.844048012802298, 'Kensington & Chelsea': 5.082465066092464, 'Kingston upon Thames': 4.270549521484271, 'Lambeth': 4.957751163514063, 'Lewisham': 5.449221041059685, 'Merton': 4.741273313294604, 'Newham': 5.305390437201879, 'Redbridge': 4.471182006097364, 'Richmond upon Thames': 4.005161895721457, 'Southwark': 5.516485302379376, 'Sutton': 4.118522608573157, 'Tower Hamlets': 4.62670104006116, 'Waltham Forest': 5.83475580932281, 'Wandsworth': 4.757709347739269, 'Westminster': 5.353565392605413}\n"
     ]
    }
   ],
   "source": [
    "red_res = create_price_ratio(reduced)\n",
    "print(red_res)"
   ]
  },
  {
   "cell_type": "code",
   "execution_count": 100,
   "metadata": {},
   "outputs": [
    {
     "name": "stdout",
     "output_type": "stream",
     "text": [
      "<class 'dict'>\n"
     ]
    }
   ],
   "source": [
    "print(type(red_res))"
   ]
  },
  {
   "cell_type": "code",
   "execution_count": 107,
   "metadata": {},
   "outputs": [
    {
     "name": "stdout",
     "output_type": "stream",
     "text": [
      "                      Average Price Gain Ratio\n",
      "Hackney                               6.198286\n",
      "Waltham Forest                        5.834756\n",
      "Southwark                             5.516485\n",
      "Lewisham                              5.449221\n",
      "Westminster                           5.353565\n",
      "Newham                                5.305390\n",
      "City of London                        5.301620\n",
      "Haringey                              5.134625\n",
      "Kensington & Chelsea                  5.082465\n",
      "Lambeth                               4.957751\n",
      "Camden                                4.935353\n",
      "Barking & Dagenham                    4.896619\n",
      "Brent                                 4.894554\n",
      "Islington                             4.844048\n",
      "Greenwich                             4.763036\n",
      "Wandsworth                            4.757709\n",
      "Merton                                4.741273\n",
      "Tower Hamlets                         4.626701\n",
      "Redbridge                             4.471182\n",
      "Barnet                                4.358196\n",
      "Havering                              4.325230\n",
      "Ealing                                4.311451\n",
      "Kingston upon Thames                  4.270550\n",
      "Enfield                               4.263472\n",
      "Bexley                                4.248977\n",
      "Croydon                               4.201100\n",
      "Hillingdon                            4.200273\n",
      "Hammersmith & Fulham                  4.137798\n",
      "Sutton                                4.118523\n",
      "Bromley                               4.094785\n",
      "Harrow                                4.059196\n",
      "Richmond upon Thames                  4.005162\n",
      "Hounslow                              3.976409\n"
     ]
    }
   ],
   "source": [
    "ratio_df = pd.DataFrame.from_dict(data = red_res, orient = 'index', columns = ['Average Price Gain Ratio'])\n",
    "print(ratio_df.sort_values(by='Average Price Gain Ratio', ascending = False))"
   ]
  },
  {
   "cell_type": "markdown",
   "metadata": {
    "colab_type": "text",
    "id": "NzYUI7FxJpgv"
   },
   "source": [
    "### 4. Conclusion\n",
    "What can you conclude? Type out your conclusion below. \n",
    "\n",
    "Look back at your notebook. Think about how you might summarize what you have done, and prepare a quick presentation on it to your mentor at your next meeting. \n",
    "\n",
    "We hope you enjoyed this practical project. It should have consolidated your data hygiene and pandas skills by looking at a real-world problem involving just the kind of dataset you might encounter as a budding data scientist. Congratulations, and looking forward to seeing you at the next step in the course! "
   ]
  },
  {
   "cell_type": "markdown",
   "metadata": {},
   "source": [
    "Based on these results the Hackney borough of London had the largest increase in average home price over the 1998-2018 period, followed by Waltham Forest and Southwark. Hounslow on the other hand had the smallest increase of all the boroughs. \n",
    "\n",
    "In this exercise I read in an Excel file with London borough average house values, transposed the data, corrected column data types, converted from wide to long format, and then removed excess data from the table. I then used the dataframe to plot the change in average price for one borough over the window included in the data, and then created a method to calculate the average property value ratio for each borough between 2018 and 1998. "
   ]
  }
 ],
 "metadata": {
  "colab": {
   "collapsed_sections": [],
   "name": "Springboard Data Science Career Track Unit 4 Challenge - Tier 3 Complete .ipynb",
   "provenance": []
  },
  "kernelspec": {
   "display_name": "Python 3 (ipykernel)",
   "language": "python",
   "name": "python3"
  },
  "language_info": {
   "codemirror_mode": {
    "name": "ipython",
    "version": 3
   },
   "file_extension": ".py",
   "mimetype": "text/x-python",
   "name": "python",
   "nbconvert_exporter": "python",
   "pygments_lexer": "ipython3",
   "version": "3.9.7"
  }
 },
 "nbformat": 4,
 "nbformat_minor": 1
}
